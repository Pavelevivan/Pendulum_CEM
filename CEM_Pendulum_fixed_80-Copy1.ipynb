{
 "cells": [
  {
   "cell_type": "code",
   "execution_count": 1,
   "metadata": {
    "colab": {},
    "colab_type": "code",
    "id": "zJK13py21jeY"
   },
   "outputs": [],
   "source": [
    "import torch\n",
    "import gym\n",
    "from collections import deque\n",
    "import numpy as np\n",
    "import random\n",
    "from copy import deepcopy\n",
    "import PendulumEnv\n",
    "%matplotlib inline\n",
    "import time\n",
    "from IPython.display import clear_output\n",
    "import matplotlib.pyplot as plt"
   ]
  },
  {
   "cell_type": "code",
   "execution_count": 2,
   "metadata": {},
   "outputs": [],
   "source": [
    "# Training first 80 epochs in lowest point and random velocity in (-1, 1) interval\n",
    "# Then continue training on real environment 20 epochs\n",
    "# made with noise (-2, 2), best score so far -201"
   ]
  },
  {
   "cell_type": "markdown",
   "metadata": {
    "colab_type": "text",
    "id": "nkrcrgNA2smh"
   },
   "source": [
    "# Solving Pendulum using CEM"
   ]
  },
  {
   "cell_type": "code",
   "execution_count": 3,
   "metadata": {
    "colab": {},
    "colab_type": "code",
    "id": "BRXWXH_eqO1c"
   },
   "outputs": [],
   "source": [
    "def generate_session(agent, env, t_max=200):\n",
    "  \"\"\"\n",
    "    Generate session on environment with agent\n",
    "  \"\"\"\n",
    "  state = env.reset()\n",
    "  actions = []\n",
    "  states = []\n",
    "  total_reward = 0\n",
    "  for _ in range(t_max):\n",
    "    action = agent.get_action(state)\n",
    "    new_s, r, done, info = env.step(action)\n",
    "    states.append(state)\n",
    "    actions.append(action)\n",
    "    total_reward += r\n",
    "    state = new_s\n",
    "    if done:\n",
    "      break\n",
    "  return states, actions, total_reward\n",
    "\n",
    "def select_elites(states, actions, rewards, percentile=50):\n",
    "  \"\"\"\n",
    "    Select sessions with the most reward\n",
    "    by percentile\n",
    "  \"\"\"\n",
    "  reward_threshold = np.percentile(rewards, percentile)\n",
    "  elite_states, elite_actions = [], []\n",
    "  for i in range(len(rewards)):\n",
    "    if rewards[i] > reward_threshold:\n",
    "      elite_states.append(states[i])\n",
    "      elite_actions.append(actions[i])\n",
    "  return elite_states, elite_actions\n",
    "\n",
    "\n",
    "def show_progress(log, reward_batch, percentile, epoch):\n",
    "    mean_reward = np.mean(reward_batch)\n",
    "    threshold = np.percentile(reward_batch, percentile)\n",
    "    log.append([mean_reward, threshold])\n",
    "    clear_output(True)\n",
    "    print(f'Epoch: {epoch}, mean reward: {mean_reward}, threshold: {threshold}')\n",
    "    plt.figure(figsize=[8, 4])\n",
    "    plt.plot(list(zip(*log))[0], label='Mean_rewards')\n",
    "    plt.plot((list(zip(*log)))[1], label='Threshold')\n",
    "    plt.legend()\n",
    "    plt.grid()\n",
    "    plt.show()"
   ]
  },
  {
   "cell_type": "code",
   "execution_count": 4,
   "metadata": {
    "colab": {},
    "colab_type": "code",
    "id": "2w4VSjH_HK5W"
   },
   "outputs": [],
   "source": [
    "def fanin_init(size, fanin=None):\n",
    "    fanin = fanin or size[0]\n",
    "    v = 1. / np.sqrt(fanin)\n",
    "    return torch.Tensor(size).uniform_(-v, v)\n",
    "\n",
    "class Network(torch.nn.Module):\n",
    "  def __init__(self, state_shape):\n",
    "    super().__init__()\n",
    "    self.linear_1 = torch.nn.Linear(state_shape[0], 30)\n",
    "    self.linear_3 = torch.nn.Linear(30, 20)\n",
    "    self.linear_4 = torch.nn.Linear(20, 1)\n",
    "    self.relu = torch.nn.ReLU()\n",
    "    self.tang = torch.nn.Tanh()\n",
    "\n",
    "  def forward(self, state):\n",
    "    predicted = self.relu(self.linear_1(state))\n",
    "#     predicted = self.relu(self.linear_2(predicted))\n",
    "    predicted = self.relu(self.linear_3(predicted))\n",
    "    predicted = self.tang(self.linear_4(predicted))\n",
    "    return predicted * 2\n",
    "    \n",
    "    "
   ]
  },
  {
   "cell_type": "code",
   "execution_count": 5,
   "metadata": {
    "colab": {
     "base_uri": "https://localhost:8080/",
     "height": 1000
    },
    "colab_type": "code",
    "id": "HE9P60Jk14Wl",
    "outputId": "095b422b-ccc2-49f1-c51f-a857f76516ec"
   },
   "outputs": [],
   "source": [
    "class CEM_agent(torch.nn.Module):\n",
    "  def __init__(self, state_shape, action_shape, epsilon=0.99, gamma=0.99,\n",
    "               tau=1e-3, batch_size=48, learning_rate=1e-2, n_batches=16):\n",
    "    super().__init__()\n",
    "    self.batch_size = batch_size\n",
    "    self.epsilon = epsilon\n",
    "    self.gamma = gamma\n",
    "    self.noise_threshold = 1\n",
    "    self.tau = tau\n",
    "    self.batch_size = batch_size\n",
    "    self.n_batches = n_batches\n",
    "    self.loss = torch.nn.MSELoss()\n",
    "    self.network = Network(state_shape)\n",
    "    self.optimizer = torch.optim.Adam(params=self.network.parameters(), lr=learning_rate)\n",
    "\n",
    "  def get_batch(self, elite_states, elite_actions):\n",
    "    batch = random.sample(list(zip(elite_states, elite_actions)),\n",
    "                          min(len(elite_actions), self.batch_size))\n",
    "    states, actions = map(np.array, zip(*batch))\n",
    "    states = torch.tensor(states, dtype=torch.float32)\n",
    "    actions = torch.tensor(actions, dtype=torch.float32)\n",
    "    return states, actions\n",
    "  \n",
    "  def update_weights(self, old_model):\n",
    "    for new_parameter, old_parameter in zip(self.network.parameters(),\n",
    "                                            old_model.parameters()):\n",
    "      new_parameter.data.copy_((1 - self.tau)*new_parameter + \\\n",
    "                                      (self.tau)*old_parameter)\n",
    "                                    \n",
    "\n",
    "  def fit(self, elite_states, elite_actions):\n",
    "    for _ in range(self.n_batches):\n",
    "      self.optimizer.zero_grad()\n",
    "      states, actions = self.get_batch(elite_states, elite_actions)\n",
    "      predicted = self.network(states)\n",
    "      loss = self.loss(predicted, actions)\n",
    "      old_model = deepcopy(self.network)\n",
    "      loss.backward()\n",
    "      self.optimizer.step()\n",
    "      self.update_weights(old_model)\n",
    "    self.gamma = self.gamma*self.epsilon\n",
    "\n",
    "  def get_action(self, state):\n",
    "    state = torch.tensor(np.array([state]), dtype=torch.float)\n",
    "    action = self.network(state).detach().data.numpy()[0]\n",
    "    noise = np.random.uniform(low=-2, high=2)*self.gamma\n",
    "    action = action + noise\n",
    "    return np.clip(action, - 2, + 2)\n",
    "\n",
    "def train(agent, env):\n",
    "  log = []\n",
    "  n_epochs = 100\n",
    "  n_sessions = 400\n",
    "  percentile = 70\n",
    "  for epoch in range(n_epochs):\n",
    "    if epoch == 80:\n",
    "      #after 80 train on real env with random initial state\n",
    "      env = gym.make('Pendulum-v0')\n",
    "    generated_sessions = [generate_session(agent, env) for _ in range(n_sessions)]\n",
    "    states, actions, rewards = map(np.array, zip(*generated_sessions))\n",
    "    elite_states, elite_actions = select_elites(states, actions, rewards, percentile)\n",
    "    agent.fit(elite_states, elite_actions)\n",
    "    print(f'Epoch: {epoch}, mean reward: {np.mean(rewards)}')\n",
    "    show_progress(log, rewards, percentile, epoch)\n",
    "  "
   ]
  },
  {
   "cell_type": "code",
   "execution_count": 6,
   "metadata": {},
   "outputs": [
    {
     "name": "stdout",
     "output_type": "stream",
     "text": [
      "Epoch: 99, mean reward: -206.13700085406367, threshold: -123.29704570747798\n"
     ]
    },
    {
     "data": {
      "image/png": "[encoded data removed]",
      "text/plain": [
       "<Figure size 576x288 with 1 Axes>"
      ]
     },
     "metadata": {
      "needs_background": "light"
     },
     "output_type": "display_data"
    },
    {
     "name": "stdout",
     "output_type": "stream",
     "text": [
      "Elapsed time: 44.08931722243627\n"
     ]
    }
   ],
   "source": [
    "env = PendulumEnv.PendulumEnv()\n",
    "action_shape = env.action_space.shape\n",
    "space_shape = env.observation_space.shape\n",
    "agent = CEM_agent(space_shape, action_shape)\n",
    "\n",
    "start = time.time()\n",
    "train(agent, env)\n",
    "end = time.time()\n",
    "print(\"Elapsed time: {}\".format((end-start)/60))"
   ]
  },
  {
   "cell_type": "code",
   "execution_count": 7,
   "metadata": {},
   "outputs": [
    {
     "name": "stdout",
     "output_type": "stream",
     "text": [
      "mean reward: -191.73893384894367\n"
     ]
    }
   ],
   "source": [
    "def test_on_real_agent(agent, env, n_sessions=400):\n",
    "    percentile = 70\n",
    "    generated_sessions = [generate_session(agent, env) for _ in range(n_sessions)]\n",
    "    states, actions, rewards = map(np.array, zip(*generated_sessions))\n",
    "    elite_states, elite_actions = select_elites(states, actions, rewards, percentile)\n",
    "    print(f'mean reward: {np.mean(rewards)}')\n",
    "real_env = gym.make('Pendulum-v0')\n",
    "test_on_real_agent(agent, real_env, n_sessions=1000)"
   ]
  }
 ],
 "metadata": {
  "accelerator": "GPU",
  "colab": {
   "collapsed_sections": [],
   "name": "CEM.ipynb",
   "provenance": []
  },
  "kernelspec": {
   "display_name": "Python 3",
   "language": "python",
   "name": "python3"
  },
  "language_info": {
   "codemirror_mode": {
    "name": "ipython",
    "version": 3
   },
   "file_extension": ".py",
   "mimetype": "text/x-python",
   "name": "python",
   "nbconvert_exporter": "python",
   "pygments_lexer": "ipython3",
   "version": "3.7.4"
  }
 },
 "nbformat": 4,
 "nbformat_minor": 1
}
